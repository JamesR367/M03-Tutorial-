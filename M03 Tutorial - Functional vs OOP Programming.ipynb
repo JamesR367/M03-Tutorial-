{
 "cells": [
  {
   "cell_type": "code",
   "execution_count": 8,
   "id": "b6730778-1e81-4402-a8a1-8e65e2bc8c3f",
   "metadata": {},
   "outputs": [
    {
     "name": "stdout",
     "output_type": "stream",
     "text": [
      "<__main__.Thing object at 0x000001B6B9234B50>\n"
     ]
    }
   ],
   "source": [
    "#10.1\n",
    "class Thing():\n",
    "    pass\n",
    "#a_Thing =  Thing()\n",
    "print(Thing())"
   ]
  },
  {
   "cell_type": "markdown",
   "id": "746c2041-4a27-4f15-b466-0d89ef5d8eb8",
   "metadata": {},
   "source": [
    "10.1 cont\n",
    "The printed values are the same when I printed either on it gave me <__main__.Thing object at 0x000001B6B924F460>"
   ]
  },
  {
   "cell_type": "code",
   "execution_count": 29,
   "id": "991ebfcf-2c99-4771-9eca-cfc591472d65",
   "metadata": {},
   "outputs": [
    {
     "name": "stdout",
     "output_type": "stream",
     "text": [
      "Hydrogen\n",
      "H\n",
      "1\n"
     ]
    }
   ],
   "source": [
    "#10.4\n",
    "class Element():\n",
    "    name = ''\n",
    "    symbol = ''\n",
    "    number = 0\n",
    "\n",
    "s1 = Element()\n",
    "s1.name = 'Hydrogen'\n",
    "s1.symbol = 'H'\n",
    "s1.number = 1\n",
    "\n",
    "print(s1.name)\n",
    "print(s1.symbol)\n",
    "print(s1.number)\n",
    "    "
   ]
  },
  {
   "cell_type": "code",
   "execution_count": 37,
   "id": "7328abac-4b1f-4810-a9d2-41c7c61b73ca",
   "metadata": {},
   "outputs": [
    {
     "name": "stdout",
     "output_type": "stream",
     "text": [
      "{'name': 'Hydrogen', 'symbol': 'H', 'number': 1}\n"
     ]
    }
   ],
   "source": [
    "#10.5\n",
    "class Element():\n",
    "    name = ''\n",
    "    symbol = ''\n",
    "    number = 0\n",
    "    hydrogen = dict\n",
    "\n",
    "s1 = Element()\n",
    "s1.name = 'Hydrogen'\n",
    "s1.symbol = 'H'\n",
    "s1.number = 1\n",
    "s1.hydrogen\n",
    "\n",
    "dict = {}\n",
    "dict.update({'name': s1.name,'symbol': s1.symbol, 'number': s1.number})\n",
    "print(s1.hydrogen)"
   ]
  },
  {
   "cell_type": "code",
   "execution_count": 53,
   "id": "a9b418e6-f21b-4cee-b172-6f1b322db830",
   "metadata": {},
   "outputs": [
    {
     "name": "stdout",
     "output_type": "stream",
     "text": [
      "berries\n",
      "clover\n",
      "campers\n"
     ]
    }
   ],
   "source": [
    "#10.9\n",
    "class Bear():\n",
    "    def eats(self):\n",
    "        return \"berries\"\n",
    "class Rabbit():\n",
    "    def eats(self):\n",
    "        return \"clover\"\n",
    "class Octothrope():\n",
    "    def eats(self):\n",
    "        return \"campers\"\n",
    "    \n",
    "bears1 = Bear()\n",
    "rabbits1 = Rabbit()\n",
    "octothropes1 = Octothrope()\n",
    "\n",
    "print (bears1.eats())\n",
    "print (rabbits1.eats())\n",
    "print (octothropes1.eats())"
   ]
  },
  {
   "cell_type": "code",
   "execution_count": null,
   "id": "c720407b-3330-4883-9822-bea787de3f9e",
   "metadata": {},
   "outputs": [],
   "source": []
  }
 ],
 "metadata": {
  "kernelspec": {
   "display_name": "Python 3 (ipykernel)",
   "language": "python",
   "name": "python3"
  },
  "language_info": {
   "codemirror_mode": {
    "name": "ipython",
    "version": 3
   },
   "file_extension": ".py",
   "mimetype": "text/x-python",
   "name": "python",
   "nbconvert_exporter": "python",
   "pygments_lexer": "ipython3",
   "version": "3.10.9"
  }
 },
 "nbformat": 4,
 "nbformat_minor": 5
}
